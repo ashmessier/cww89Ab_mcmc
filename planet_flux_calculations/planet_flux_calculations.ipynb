{
 "cells": [
  {
   "cell_type": "markdown",
   "metadata": {
    "extensions": {
     "jupyter_dashboards": {
      "version": 1,
      "views": {
       "grid_default": {},
       "report_default": {}
      }
     }
    }
   },
   "source": [
    "# Imports \n"
   ]
  },
  {
   "cell_type": "code",
   "execution_count": 193,
   "metadata": {
    "extensions": {
     "jupyter_dashboards": {
      "version": 1,
      "views": {
       "grid_default": {},
       "report_default": {}
      }
     }
    }
   },
   "outputs": [],
   "source": [
    "import numpy as np\n",
    "from scipy.interpolate import interp1d\n",
    "import matplotlib.pyplot as plt\n",
    "from scipy.optimize import minimize\n",
    "import math\n",
    "import sys\n",
    "from astropy.modeling.models import BlackBody\n",
    "from astropy import units as u\n",
    "\n",
    "from matplotlib import rc # for global times new roman font\n",
    "from pathlib import Path\n",
    "rc(\"font\",**{\"family\":\"serif\", \"serif\":[\"Times\"]})\n",
    "rc(\"text\", usetex=True)"
   ]
  },
  {
   "cell_type": "code",
   "execution_count": 194,
   "metadata": {
    "extensions": {
     "jupyter_dashboards": {
      "version": 1,
      "views": {
       "grid_default": {},
       "report_default": {}
      }
     }
    }
   },
   "outputs": [],
   "source": [
    "runs = [1, 2, 3, 5, 6, 7]\n",
    "depths = [9873.506279381681, 8934.029524345975, 8423.405023714935, 8500.143922958772, 8503.934821045383, 8390.1765008139]\n",
    "errs = [51.60347163478127, 143.1915953399348, 130.688166527495, 18.52444114327136, 50.676598261274194,  129.3413199274146]"
   ]
  },
  {
   "cell_type": "code",
   "execution_count": 195,
   "metadata": {
    "extensions": {
     "jupyter_dashboards": {
      "version": 1,
      "views": {
       "grid_default": {},
       "report_default": {}
      }
     }
    }
   },
   "outputs": [
    {
     "name": "stderr",
     "output_type": "stream",
     "text": [
      "findfont: Font family ['serif'] not found. Falling back to DejaVu Sans.\n"
     ]
    },
    {
     "data": {
      "image/png": "[encoded data removed]",
      "text/plain": [
       "<Figure size 720x432 with 1 Axes>"
      ]
     },
     "metadata": {
      "needs_background": "light"
     },
     "output_type": "display_data"
    }
   ],
   "source": [
    "plt.figure(figsize=(10, 6))\n",
    "plt.errorbar(runs, depths, yerr=errs, fmt=\"o\", color=\"black\", label=\"depth\")\n",
    "\n",
    "plt.fill_between(np.linspace(0, 8, 100), depths[2]-errs[2], y2=depths[2]+errs[2], color=\"blue\", alpha=0.2, label=\"region of consistant depth\")\n",
    "\n",
    "plt.grid(alpha=0.7)\n",
    "plt.xlim(0.5, 7.5)\n",
    "plt.legend(fontsize=15)\n",
    "plt.xlabel(\"SuperSample factor\", size=15)\n",
    "plt.ylabel(\"Kepler Transit Depth (ppm)\", size=15)\n",
    "plt.title(\"Kepler Transit Depth as a function of SuperSample Factor\", size=15);"
   ]
  },
  {
   "cell_type": "markdown",
   "metadata": {
    "extensions": {
     "jupyter_dashboards": {
      "version": 1,
      "views": {
       "grid_default": {},
       "report_default": {}
      }
     }
    }
   },
   "source": [
    "### Star Spectrum Models"
   ]
  },
  {
   "cell_type": "code",
   "execution_count": 32,
   "metadata": {
    "extensions": {
     "jupyter_dashboards": {
      "version": 1,
      "views": {
       "grid_default": {},
       "report_default": {}
      }
     }
    }
   },
   "outputs": [],
   "source": [
    "# loads in BT-settl stellar atmosphere models \n",
    "\n",
    "# units of AA vs ergs/cm^2/s/AA \n",
    "spec_B_raw = np.loadtxt(\"lte038.0-4.5-0.0a+0.0.BT-Settl.spec.7.dat.txt\")\n",
    "spec_A_raw = np.loadtxt(\"lte058.0-4.5-0.0a+0.0.BT-Settl.spec.7.dat.txt\")"
   ]
  },
  {
   "cell_type": "markdown",
   "metadata": {
    "extensions": {
     "jupyter_dashboards": {
      "version": 1,
      "views": {
       "grid_default": {},
       "report_default": {}
      }
     }
    }
   },
   "source": [
    "### Filter transmission profiles"
   ]
  },
  {
   "cell_type": "code",
   "execution_count": 33,
   "metadata": {
    "extensions": {
     "jupyter_dashboards": {
      "version": 1,
      "views": {
       "grid_default": {},
       "report_default": {}
      }
     }
    }
   },
   "outputs": [],
   "source": [
    "# loads in transmission profiles\n",
    "\n",
    "# units of AA vs transmission (fraction)\n",
    "kep_transmission_raw = np.loadtxt(\"Kepler_Kepler.K.dat\")\n",
    "spitz_ch1_raw = np.loadtxt(\"Spitzer_IRAC.I1.dat\")\n",
    "spitz_ch2_raw = np.loadtxt(\"Spitzer_IRAC.I2.dat\")"
   ]
  },
  {
   "cell_type": "markdown",
   "metadata": {
    "extensions": {
     "jupyter_dashboards": {
      "version": 1,
      "views": {
       "grid_default": {},
       "report_default": {}
      }
     }
    }
   },
   "source": [
    "### MCMC results"
   ]
  },
  {
   "cell_type": "code",
   "execution_count": 50,
   "metadata": {
    "extensions": {
     "jupyter_dashboards": {
      "version": 1,
      "views": {
       "grid_default": {},
       "report_default": {}
      }
     }
    }
   },
   "outputs": [
    {
     "name": "stdout",
     "output_type": "stream",
     "text": [
      "[8062.8081528393795, 284.67063604842724]\n",
      "[8247.64932897733, 244.02469776125417]\n",
      "[8819.402022837698, 46.3663478735416]\n"
     ]
    }
   ],
   "source": [
    "# loads in MCMC results\n",
    "\n",
    "mcmc_output = np.load(\"../final_params_working.npz\")\n",
    "pars = mcmc_output[\"pars\"]\n",
    "errs = mcmc_output[\"errors\"]\n",
    "\n",
    "RpRs_kepler = [pars[4], errs[4]] \n",
    "depth_ch1 = [pars[11], errs[11]]\n",
    "depth_ch2 = [pars[12], errs[12]]\n",
    "depth_kepler = [pars[13], errs[13]]\n",
    "\n",
    "print(depth_ch1)\n",
    "print(depth_ch2)\n",
    "print(depth_kepler)"
   ]
  },
  {
   "cell_type": "markdown",
   "metadata": {
    "extensions": {
     "jupyter_dashboards": {
      "version": 1,
      "views": {
       "grid_default": {},
       "report_default": {}
      }
     }
    }
   },
   "source": [
    "### Star Radii, errors"
   ]
  },
  {
   "cell_type": "code",
   "execution_count": 35,
   "metadata": {
    "extensions": {
     "jupyter_dashboards": {
      "version": 1,
      "views": {
       "grid_default": {},
       "report_default": {}
      }
     }
    },
    "scrolled": true
   },
   "outputs": [],
   "source": [
    "# loads in star radii values, converts to correct units\n",
    "\n",
    "to_cm = 6.95700e10 # radius of the sun in cm\n",
    "\n",
    "RA = 1.01 * to_cm * u.cm # radius of A\n",
    "sig_RA = 0.04 *to_cm * u.cm # uncertainty on radius\n",
    "\n",
    "RB = 0.52 * to_cm * u.cm # raidus of B\n",
    "sig_RB = 0.06 * to_cm * u.cm # uncertainty of radius of B"
   ]
  },
  {
   "cell_type": "markdown",
   "metadata": {
    "extensions": {
     "jupyter_dashboards": {
      "version": 1,
      "views": {
       "grid_default": {},
       "report_default": {}
      }
     }
    }
   },
   "source": [
    "### BD radius, errors"
   ]
  },
  {
   "cell_type": "code",
   "execution_count": 36,
   "metadata": {
    "extensions": {
     "jupyter_dashboards": {
      "version": 1,
      "views": {
       "grid_default": {},
       "report_default": {}
      }
     }
    }
   },
   "outputs": [],
   "source": [
    "# calculates Kepler radius in cm\n",
    "Rp = (RpRs_kepler[0]) * RA # Assume Kepler radius is the true radius of brown dwarf, convert from RpRs -> Rp using R_A # Rp in cm\n",
    "\n",
    "sig_Rp =(RA.value**2 * RpRs_kepler[1]** 2 + RpRs_kepler[0]**2 * sig_RA.value ** 2) ** 0.5 * u.cm\n",
    "Rp_kepler = [Rp, sig_Rp] "
   ]
  },
  {
   "cell_type": "markdown",
   "metadata": {
    "extensions": {
     "jupyter_dashboards": {
      "version": 1,
      "views": {
       "grid_default": {},
       "report_default": {}
      }
     }
    }
   },
   "source": [
    "# Calculates $SB_{A}$, $SB_{B}$ for Kepler observation\n",
    "\n",
    "Surface Brightness is the integral of a spectrum over wavelength \n",
    "\n",
    "integrate $ergs/cm^{2}/s/AA$ over $AA$ to get $ergs/cm^{2}/s$\n",
    "\n",
    "Surface Brightness (SB) = integral of Stellar Spectrum * Transmission profile over wavelength range of filter"
   ]
  },
  {
   "cell_type": "markdown",
   "metadata": {
    "extensions": {
     "jupyter_dashboards": {
      "version": 1,
      "views": {
       "grid_default": {},
       "report_default": {}
      }
     }
    }
   },
   "source": [
    "### Star A"
   ]
  },
  {
   "cell_type": "code",
   "execution_count": 37,
   "metadata": {
    "extensions": {
     "jupyter_dashboards": {
      "version": 1,
      "views": {
       "grid_default": {},
       "report_default": {}
      }
     }
    }
   },
   "outputs": [],
   "source": [
    "# star A:\n",
    "lam_A = spec_A_raw[:, 0] * u.AA # wavelength range of star A spectrum in AA\n",
    "spectrum_A = spec_A_raw[:, 1] * u.erg/(u.cm)**2 / u.s / u.AA # spectrum of A in ergs/cm^2/s/AA : flux density"
   ]
  },
  {
   "cell_type": "code",
   "execution_count": 38,
   "metadata": {
    "extensions": {
     "jupyter_dashboards": {
      "version": 1,
      "views": {
       "grid_default": {},
       "report_default": {}
      }
     }
    }
   },
   "outputs": [],
   "source": [
    "# Kepler transmission profile \n",
    "# indices in star wavelength array where wavelength is equal to the smallest / largest wavelength in the star spectrum array\n",
    "i_min = (np.abs(spec_A_raw[:, 0] - np.min(kep_transmission_raw[:, 0]))).argmin()\n",
    "i_max = (np.abs(spec_A_raw[:, 0] - np.max(kep_transmission_raw[:, 0]))).argmin()\n",
    "\n",
    "# shortens star spectrum arrays at desired indices\n",
    "spec_A = spec_A_raw[i_min:i_max]\n",
    "\n",
    "# Creates interpolation function to transpose x axis from star data onto spitzer transmission spectrum\n",
    "interp_func = interp1d(kep_transmission_raw[:, 0], kep_transmission_raw[:, 1])\n",
    "\n",
    "# calculates new x axis, uses interpolation function to find new y axis\n",
    "lam_A = spec_A[:, 0] * u.AA # wavelength from star array, adds correct units\n",
    "spectrum_A = spec_A[:, 1] * (u.erg / u.cm**2 / u.s / u.AA) # grabs flux from array, adds correct units\n",
    "transmission_A = interp_func(lam_A) # calculates new kepler transmission array values of same length of transmission x values\n",
    "\n",
    "# scales flux by transmission to get array of flux of star as seen by Kepler\n",
    "scaled_flux_A = transmission_A * spectrum_A"
   ]
  },
  {
   "cell_type": "code",
   "execution_count": 39,
   "metadata": {
    "extensions": {
     "jupyter_dashboards": {
      "version": 1,
      "views": {
       "grid_default": {},
       "report_default": {}
      }
     }
    }
   },
   "outputs": [
    {
     "name": "stdout",
     "output_type": "stream",
     "text": [
      "Surface brightness, star A: 18880651475.642326 erg / (cm2 s)\n"
     ]
    }
   ],
   "source": [
    "# integrates scaled flux(ergs/cm^2/s/A) over wavelength (A) to get flux in ergs/cm^2/s using trapezoid integration\n",
    "SB_A = sum(\n",
    "    [(scaled_flux_A[i] + scaled_flux_A[i-1]) * (lam_A[i] - lam_A[i-1]) / 2 for i in range(1, len(lam_A))]\n",
    ")\n",
    "\n",
    "print(\"Surface brightness, star A:\", SB_A)\n",
    "\n",
    "# total_flux_A gives the total flux in ergs/cm^2/s of star A as seen by Kepler. "
   ]
  },
  {
   "cell_type": "markdown",
   "metadata": {
    "extensions": {
     "jupyter_dashboards": {
      "version": 1,
      "views": {
       "grid_default": {},
       "report_default": {}
      }
     }
    }
   },
   "source": [
    "### Star B "
   ]
  },
  {
   "cell_type": "code",
   "execution_count": 40,
   "metadata": {
    "extensions": {
     "jupyter_dashboards": {
      "version": 1,
      "views": {
       "grid_default": {},
       "report_default": {}
      }
     }
    }
   },
   "outputs": [],
   "source": [
    "# star A:\n",
    "lam_B = spec_B_raw[:, 0] * u.AA # wavelength range of star A spectrum in AA\n",
    "spectrum_B = spec_B_raw[:, 1] * u.erg/(u.cm)**2 / u.s / u.AA # spectrum of A in ergs/cm^2/s/AA : flux density"
   ]
  },
  {
   "cell_type": "code",
   "execution_count": 41,
   "metadata": {
    "extensions": {
     "jupyter_dashboards": {
      "version": 1,
      "views": {
       "grid_default": {},
       "report_default": {}
      }
     }
    }
   },
   "outputs": [],
   "source": [
    "# Kepler transmission profile \n",
    "# indices in star wavelength array where wavelength is equal to the smallest / largest wavelength in the star spectrum array\n",
    "i_min = (np.abs(spec_B_raw[:, 0] - np.min(kep_transmission_raw[:, 0]))).argmin()\n",
    "i_max = (np.abs(spec_B_raw[:, 0] - np.max(kep_transmission_raw[:, 0]))).argmin()\n",
    "\n",
    "# shortens star spectrum arrays at desired indices\n",
    "spec_B = spec_B_raw[i_min:i_max]\n",
    "\n",
    "# Creates interpolation function to transpose x axis from star data onto spitzer transmission spectrum\n",
    "interp_func = interp1d(kep_transmission_raw[:, 0], kep_transmission_raw[:, 1])\n",
    "\n",
    "# calculates new x axis, uses interpolation function to find new y axis\n",
    "lam_B = spec_B[:, 0] * u.AA # wavelength from star array, adds correct units\n",
    "spectrum_B = spec_B[:, 1] * (u.erg / u.cm**2 / u.s / u.AA) # grabs flux from array, adds correct units\n",
    "transmission_B = interp_func(lam_B) # calculates new kepler transmission array values of same length of transmission x values\n",
    "\n",
    "# scales flux by transmission to get array of flux of star as seen by Kepler\n",
    "scaled_flux_B = transmission_B * spectrum_B"
   ]
  },
  {
   "cell_type": "code",
   "execution_count": 42,
   "metadata": {
    "extensions": {
     "jupyter_dashboards": {
      "version": 1,
      "views": {
       "grid_default": {},
       "report_default": {}
      }
     }
    }
   },
   "outputs": [
    {
     "name": "stdout",
     "output_type": "stream",
     "text": [
      "Surface brightness, star B: 1682994775.5774229 erg / (cm2 s)\n"
     ]
    }
   ],
   "source": [
    "# integrates scaled flux(ergs/cm^2/s/A) over wavelength (A) to get flux in ergs/cm^2/s using trapezoid integration\n",
    "SB_B = sum(\n",
    "    [(scaled_flux_B[i] + scaled_flux_B[i-1]) * (lam_B[i] - lam_B[i-1]) / 2 for i in range(1, len(lam_B))]\n",
    ") \n",
    "\n",
    "print(\"Surface brightness, star B:\", SB_B)\n",
    "\n",
    "\n",
    "# total_flux_B gives the total flux in ergs/cm^2/s of star B as seen by Kepler. "
   ]
  },
  {
   "cell_type": "markdown",
   "metadata": {
    "extensions": {
     "jupyter_dashboards": {
      "version": 1,
      "views": {
       "grid_default": {},
       "report_default": {}
      }
     }
    }
   },
   "source": [
    "# Calcualte SB for Spitzer channels "
   ]
  },
  {
   "cell_type": "markdown",
   "metadata": {
    "extensions": {
     "jupyter_dashboards": {
      "version": 1,
      "views": {
       "grid_default": {},
       "report_default": {}
      }
     }
    }
   },
   "source": [
    "### CH 1"
   ]
  },
  {
   "cell_type": "code",
   "execution_count": 43,
   "metadata": {
    "extensions": {
     "jupyter_dashboards": {
      "version": 1,
      "views": {
       "grid_default": {},
       "report_default": {}
      }
     }
    }
   },
   "outputs": [
    {
     "name": "stdout",
     "output_type": "stream",
     "text": [
      "Surface brightness, star A: 209111123.36627406 erg / (cm2 s)\n"
     ]
    }
   ],
   "source": [
    "# Kepler transmission profile \n",
    "# indices in star wavelength array where wavelength is equal to the smallest / largest wavelength in the star spectrum array\n",
    "i_min = (np.abs(spec_A_raw[:, 0] - np.min(spitz_ch1_raw[:, 0]))).argmin()\n",
    "i_max = (np.abs(spec_A_raw[:, 0] - np.max(spitz_ch1_raw[:, 0]))).argmin()\n",
    "\n",
    "# shortens star spectrum arrays at desired indices\n",
    "spec_A = spec_A_raw[i_min:i_max]\n",
    "\n",
    "# Creates interpolation function to transpose x axis from star data onto spitzer transmission spectrum\n",
    "interp_func = interp1d(spitz_ch1_raw[:, 0], spitz_ch1_raw[:, 1])\n",
    "\n",
    "# calculates new x axis, uses interpolation function to find new y axis\n",
    "lam_A = spec_A[:, 0] * u.AA # wavelength from star array, adds correct units\n",
    "spectrum_A = spec_A[:, 1] * (u.erg / u.cm**2 / u.s / u.AA) # grabs flux from array, adds correct units\n",
    "transmission_A = interp_func(lam_A) # calculates new kepler transmission array values of same length of transmission x values\n",
    "\n",
    "# scales flux by transmission to get array of flux of star as seen by Kepler\n",
    "scaled_flux_A_ch1 = transmission_A * spectrum_A\n",
    "\n",
    "# integrates scaled flux(ergs/cm^2/s/A) over wavelength (A) to get flux in ergs/cm^2/s using trapezoid integration\n",
    "SB_A_ch1 = sum(\n",
    "    [(scaled_flux_A_ch1[i] + scaled_flux_A_ch1[i-1]) * (lam_A[i] - lam_A[i-1]) / 2 for i in range(1, len(lam_A))]\n",
    ") \n",
    "\n",
    "print(\"Surface brightness, star A:\", SB_A_ch1)\n",
    "\n",
    "\n",
    "# total_flux_B gives the total flux in ergs/cm^2/s of star B as seen by Kepler. "
   ]
  },
  {
   "cell_type": "code",
   "execution_count": 44,
   "metadata": {
    "extensions": {
     "jupyter_dashboards": {
      "version": 1,
      "views": {
       "grid_default": {},
       "report_default": {}
      }
     }
    }
   },
   "outputs": [
    {
     "name": "stdout",
     "output_type": "stream",
     "text": [
      "Surface brightness, star B: 120580352.08275107 erg / (cm2 s)\n"
     ]
    }
   ],
   "source": [
    "# Kepler transmission profile \n",
    "# indices in star wavelength array where wavelength is equal to the smallest / largest wavelength in the star spectrum array\n",
    "i_min = (np.abs(spec_B_raw[:, 0] - np.min(spitz_ch1_raw[:, 0]))).argmin()\n",
    "i_max = (np.abs(spec_B_raw[:, 0] - np.max(spitz_ch1_raw[:, 0]))).argmin()\n",
    "\n",
    "# shortens star spectrum arrays at desired indices\n",
    "spec_B = spec_B_raw[i_min:i_max]\n",
    "\n",
    "# Creates interpolation function to transpose x axis from star data onto spitzer transmission spectrum\n",
    "interp_func = interp1d(spitz_ch1_raw[:, 0], spitz_ch1_raw[:, 1])\n",
    "\n",
    "# calculates new x axis, uses interpolation function to find new y axis\n",
    "lam_B = spec_B[:, 0] * u.AA # wavelength from star array, adds correct units\n",
    "spectrum_B = spec_B[:, 1] * (u.erg / u.cm**2 / u.s / u.AA) # grabs flux from array, adds correct units\n",
    "transmission_B = interp_func(lam_B) # calculates new kepler transmission array values of same length of transmission x values\n",
    "\n",
    "# scales flux by transmission to get array of flux of star as seen by Kepler\n",
    "scaled_flux_B_ch1 = transmission_B * spectrum_B\n",
    "\n",
    "# integrates scaled flux(ergs/cm^2/s/A) over wavelength (A) to get flux in ergs/cm^2/s using trapezoid integration\n",
    "SB_B_ch1 = sum(\n",
    "    [(scaled_flux_B_ch1[i] + scaled_flux_B_ch1[i-1]) * (lam_B[i] - lam_B[i-1]) / 2 for i in range(1, len(lam_B))]\n",
    ") \n",
    "\n",
    "print(\"Surface brightness, star B:\", SB_B_ch1)\n",
    "\n",
    "\n",
    "# total_flux_B gives the total flux in ergs/cm^2/s of star B as seen by Kepler. "
   ]
  },
  {
   "cell_type": "markdown",
   "metadata": {
    "extensions": {
     "jupyter_dashboards": {
      "version": 1,
      "views": {
       "grid_default": {},
       "report_default": {}
      }
     }
    }
   },
   "source": [
    "### CH 2"
   ]
  },
  {
   "cell_type": "code",
   "execution_count": 45,
   "metadata": {
    "extensions": {
     "jupyter_dashboards": {
      "version": 1,
      "views": {
       "grid_default": {},
       "report_default": {}
      }
     }
    }
   },
   "outputs": [
    {
     "name": "stdout",
     "output_type": "stream",
     "text": [
      "Surface brightness, star A: 121672861.878721 erg / (cm2 s)\n"
     ]
    }
   ],
   "source": [
    "# Kepler transmission profile \n",
    "# indices in star wavelength array where wavelength is equal to the smallest / largest wavelength in the star spectrum array\n",
    "i_min = (np.abs(spec_A_raw[:, 0] - np.min(spitz_ch2_raw[:, 0]))).argmin()\n",
    "i_max = (np.abs(spec_A_raw[:, 0] - np.max(spitz_ch2_raw[:, 0]))).argmin()\n",
    "\n",
    "# shortens star spectrum arrays at desired indices\n",
    "spec_A = spec_A_raw[i_min:i_max]\n",
    "\n",
    "# Creates interpolation function to transpose x axis from star data onto spitzer transmission spectrum\n",
    "interp_func = interp1d(spitz_ch2_raw[:, 0], spitz_ch2_raw[:, 1])\n",
    "\n",
    "# calculates new x axis, uses interpolation function to find new y axis\n",
    "lam_A = spec_A[:, 0] * u.AA # wavelength from star array, adds correct units\n",
    "spectrum_A = spec_A[:, 1] * (u.erg / u.cm**2 / u.s / u.AA) # grabs flux from array, adds correct units\n",
    "transmission_A = interp_func(lam_A) # calculates new kepler transmission array values of same length of transmission x values\n",
    "\n",
    "# scales flux by transmission to get array of flux of star as seen by Kepler\n",
    "scaled_flux_A_ch2 = transmission_A * spectrum_A\n",
    "\n",
    "# integrates scaled flux(ergs/cm^2/s/A) over wavelength (A) to get flux in ergs/cm^2/s using trapezoid integration\n",
    "SB_A_ch2 = sum(\n",
    "    [(scaled_flux_A_ch2[i] + scaled_flux_A_ch2[i-1]) * (lam_A[i] - lam_A[i-1]) / 2 for i in range(1, len(lam_A))]\n",
    ") \n",
    "\n",
    "print(\"Surface brightness, star A:\", SB_A_ch2)\n",
    "\n",
    "\n",
    "# total_flux_B gives the total flux in ergs/cm^2/s of star B as seen by Kepler. "
   ]
  },
  {
   "cell_type": "code",
   "execution_count": 46,
   "metadata": {
    "extensions": {
     "jupyter_dashboards": {
      "version": 1,
      "views": {
       "grid_default": {},
       "report_default": {}
      }
     }
    }
   },
   "outputs": [
    {
     "name": "stdout",
     "output_type": "stream",
     "text": [
      "Surface brightness, star B: 71513884.7662652 erg / (cm2 s)\n"
     ]
    }
   ],
   "source": [
    "# Kepler transmission profile \n",
    "# indices in star wavelength array where wavelength is equal to the smallest / largest wavelength in the star spectrum array\n",
    "i_min = (np.abs(spec_B_raw[:, 0] - np.min(spitz_ch2_raw[:, 0]))).argmin()\n",
    "i_max = (np.abs(spec_B_raw[:, 0] - np.max(spitz_ch2_raw[:, 0]))).argmin()\n",
    "\n",
    "# shortens star spectrum arrays at desired indices\n",
    "spec_B = spec_B_raw[i_min:i_max]\n",
    "\n",
    "# Creates interpolation function to transpose x axis from star data onto spitzer transmission spectrum\n",
    "interp_func = interp1d(spitz_ch2_raw[:, 0], spitz_ch2_raw[:, 1])\n",
    "\n",
    "# calculates new x axis, uses interpolation function to find new y axis\n",
    "lam_B = spec_B[:, 0] * u.AA # wavelength from star array, adds correct units\n",
    "spectrum_B = spec_B[:, 1] * (u.erg / u.cm**2 / u.s / u.AA) # grabs flux from array, adds correct units\n",
    "transmission_B = interp_func(lam_B) # calculates new kepler transmission array values of same length of transmission x values\n",
    "\n",
    "# scales flux by transmission to get array of flux of star as seen by Kepler\n",
    "scaled_flux_B_ch2 = transmission_B * spectrum_B\n",
    "\n",
    "# integrates scaled flux(ergs/cm^2/s/A) over wavelength (A) to get flux in ergs/cm^2/s using trapezoid integration\n",
    "SB_B_ch2 = sum(\n",
    "    [(scaled_flux_B_ch2[i] + scaled_flux_B_ch2[i-1]) * (lam_B[i] - lam_B[i-1]) / 2 for i in range(1, len(lam_B))]\n",
    ") \n",
    "\n",
    "print(\"Surface brightness, star B:\", SB_B_ch2)\n",
    "\n",
    "\n",
    "# total_flux_B gives the total flux in ergs/cm^2/s of star B as seen by Kepler. "
   ]
  },
  {
   "cell_type": "markdown",
   "metadata": {
    "extensions": {
     "jupyter_dashboards": {
      "version": 1,
      "views": {
       "grid_default": {},
       "report_default": {}
      }
     }
    }
   },
   "source": [
    "# Perform dilution correction on transit depths\n",
    "\n",
    "$\\delta_{undiluted} = (R_{p}/R_{A})^2$\n",
    "\n",
    "$\\delta_{diluted} = \\frac{S_{A}(R_{p}/R_{A})^2}{S_{A} + (R_{B}/R_{A})^2 S_{B}}$\n",
    "\n",
    "\n",
    "### $\\delta_{undiluted} = \\frac{\\delta_{diluted} (S_{A} + (R_{B}/R_{A})^2 S_{B})}{S_{A}}$\n",
    "\n",
    "\n",
    "Since stellar spectra are well behaved in infrared, we can approximate the dilution factor for Spitzer observations\n",
    "### $\\delta_{undiluted, spitzer} = \\delta_{diluted} (1 + (\\frac{R_{B}}{R_{A}})^2 \\frac{T_{B}}{T_A})$"
   ]
  },
  {
   "cell_type": "code",
   "execution_count": 230,
   "metadata": {
    "extensions": {
     "jupyter_dashboards": {
      "version": 1,
      "views": {
       "grid_default": {},
       "report_default": {}
      }
     }
    },
    "scrolled": false
   },
   "outputs": [
    {
     "name": "stdout",
     "output_type": "stream",
     "text": [
      "ch 1: 9295.202445843099 +/- 328.18233328858474\n",
      "ch 2: 9532.612778021246 +/- 282.04314456712495\n",
      "kepler: 9027.788182862256 +/- 47.46189892821745\n"
     ]
    }
   ],
   "source": [
    "# CH 1 \n",
    "dilution_ch1 = (SB_A_ch1 + (RB/RA)**2 * SB_B_ch1)/SB_A_ch1\n",
    "depth_undil_ch1 = depth_ch1 * dilution_ch1\n",
    "\n",
    "print(\"ch 1:\", depth_undil_ch1[0], \"+/-\", depth_undil_ch1[1])\n",
    "\n",
    "# CH 2\n",
    "dilution_ch2 = (SB_A_ch2 + (RB/RA)**2 * SB_B_ch2)/SB_A_ch2\n",
    "depth_undil_ch2 = depth_ch2 * dilution_ch2\n",
    "\n",
    "print(\"ch 2:\", depth_undil_ch2[0], \"+/-\", depth_undil_ch2[1])\n",
    "\n",
    "# Kepler - check??? \n",
    "dilution_kepler = (SB_A+ (RB/RA)**2 * SB_B)/SB_A\n",
    "depth_undil_kepler = depth_kepler * dilution_kepler\n",
    "\n",
    "print(\"kepler:\", depth_undil_kepler[0], \"+/-\", depth_undil_kepler[1])"
   ]
  },
  {
   "cell_type": "code",
   "execution_count": 253,
   "metadata": {
    "extensions": {
     "jupyter_dashboards": {
      "version": 1,
      "views": {
       "grid_default": {},
       "report_default": {}
      }
     }
    }
   },
   "outputs": [
    {
     "name": "stdout",
     "output_type": "stream",
     "text": [
      "chi2 dof: 1.8501423071747993\n",
      "sigma interval: 1.4145012114656352\n"
     ]
    }
   ],
   "source": [
    "from scipy.stats import chi2\n",
    "from scipy.stats import norm\n",
    "\n",
    "observed = np.asarray([depth_undil_ch1[0], depth_undil_ch2[0], depth_undil_kepler[0]])\n",
    "errs =  np.asarray([depth_undil_ch1[1], depth_undil_ch2[1], depth_undil_kepler[1]])\n",
    "#errs = np.asarray([sig_depth_undil_ch1, sig_depth_undil_ch1, sig_depth_undil_kepler])\n",
    "weights = 1/(errs**2)\n",
    "weighted_depth = np.average(observed, weights = weights)\n",
    "\n",
    "chi2_value = np.sum((observed - weighted_depth)**2/(errs)**2) # reduced? weighted? chi2 \n",
    "\n",
    "\n",
    "dof = len(observed) - 1 # calculates degrees of freedom \n",
    "chi2_dof = chi2_value/dof\n",
    "\n",
    "print(\"chi2 dof:\", chi2_dof)\n",
    "\n",
    "p_value = chi2.cdf(chi2_value, dof) # evaluates cdf to find p value \n",
    "\n",
    "sigma = norm.interval(p_value)[1] # converts p value to sigma interval? \n",
    "print(\"sigma interval:\", sigma)"
   ]
  },
  {
   "cell_type": "code",
   "execution_count": null,
   "metadata": {
    "extensions": {
     "jupyter_dashboards": {
      "version": 1,
      "views": {
       "grid_default": {},
       "report_default": {}
      }
     }
    }
   },
   "outputs": [],
   "source": [
    "# what do \n",
    "\n",
    "# write and make plots \n",
    "# start with plots - \n",
    "    # plot of depths as a function of wavelength (plot diluted and undiluted)\n",
    "    # dashed line across for weighted average value \n",
    "    \n",
    "    # 3 panel plot of all fit lightcurves (but one plot)"
   ]
  },
  {
   "cell_type": "code",
   "execution_count": 256,
   "metadata": {
    "extensions": {
     "jupyter_dashboards": {
      "version": 1,
      "views": {
       "grid_default": {},
       "report_default": {}
      }
     }
    }
   },
   "outputs": [
    {
     "data": {
      "image/png": "[encoded data removed]",
      "text/plain": [
       "<Figure size 3750x3750 with 1 Axes>"
      ]
     },
     "metadata": {
      "needs_background": "light"
     },
     "output_type": "display_data"
    }
   ],
   "source": [
    "plt.figure(figsize=(5, 5), dpi=750)\n",
    "lam = 10000 # conversion from angstroms to microns\n",
    "ch1_lam = 35074.83 / lam\n",
    "ch2_lam = 44365.56/ lam\n",
    "kepler_lam = 5978.14/ lam\n",
    "\n",
    "filter_lams = [ch1_lam, ch2_lam, kepler_lam]\n",
    "\n",
    "depths_dil = [depth_ch1[0], depth_ch2[0], depth_kepler[0]]\n",
    "errs_dil = [depth_ch1[1], depth_ch2[1], depth_kepler[1]]\n",
    "\n",
    "depths_undil = [depth_undil_ch1[0], depth_undil_ch2[0], depth_undil_kepler[0]]\n",
    "errs_undil = [depth_undil_ch1[1], depth_undil_ch2[1], depth_undil_kepler[1]]\n",
    "\n",
    "\n",
    "labels = [\"Spitzer Ch 1\", \"Spitzer Ch 2\", \"Kepler\"]\n",
    "lam_colors = [\"deepskyblue\", \"maroon\", \"darkorange\"]\n",
    "\n",
    "for i in range (len(depths)):\n",
    "    \n",
    "    plt.errorbar(filter_lams[i], depths_dil[i], yerr=errs_dil[i], fmt=\"^\", color=lam_colors[i], alpha=0.3, marker=\"o\")\n",
    " #   plt.axhline(depths[i], color=lam_colors[i], linestyle=\"--\", label=labels[i], alpha=0.5)\n",
    "    \n",
    "    plt.errorbar(filter_lams[i], depths_undil[i], yerr=errs_undil[i], fmt=\"^\", color=lam_colors[i], label=labels[i], marker=\"o\")\n",
    "   # plt.axhline(depths[i], color=lam_colors[i], linestyle=\"--\", label=labels[i], alpha=0.5)\n",
    "\n",
    "plt.axhline(weighted_depth, label=\"diluted weighted average depth\", color=\"teaL\", linestyle=\"--\")\n",
    "\n",
    "#plt.title(\"Diluted Transit depth per wavelength of observation \")\n",
    "plt.xlabel(r\"Filter $\\lambda_{eff}$ ($\\mu m$)\")\n",
    "plt.ylabel(\"Transit Depth $(R_{P}/R_{*})^2$  (ppm)\")\n",
    "#plt.grid(alpha=0.1)\n",
    "plt.legend(loc=\"upper left\");"
   ]
  },
  {
   "cell_type": "code",
   "execution_count": null,
   "metadata": {
    "extensions": {
     "jupyter_dashboards": {
      "version": 1,
      "views": {
       "grid_default": {},
       "report_default": {}
      }
     }
    }
   },
   "outputs": [],
   "source": []
  },
  {
   "cell_type": "code",
   "execution_count": null,
   "metadata": {
    "extensions": {
     "jupyter_dashboards": {
      "version": 1,
      "views": {
       "grid_default": {},
       "report_default": {}
      }
     }
    }
   },
   "outputs": [],
   "source": []
  },
  {
   "cell_type": "code",
   "execution_count": null,
   "metadata": {
    "extensions": {
     "jupyter_dashboards": {
      "version": 1,
      "views": {
       "grid_default": {},
       "report_default": {}
      }
     }
    }
   },
   "outputs": [],
   "source": []
  },
  {
   "cell_type": "markdown",
   "metadata": {
    "extensions": {
     "jupyter_dashboards": {
      "version": 1,
      "views": {
       "grid_default": {},
       "report_default": {}
      }
     }
    }
   },
   "source": [
    "# Calculates $L_{sys, Kepler}$\n",
    "\n",
    "$L_{sys, Kepler} = SB_{A, Kep} R_{A}^{2} + SB_{B, Kep} R_{B}^{2}$\n"
   ]
  },
  {
   "cell_type": "code",
   "execution_count": 28,
   "metadata": {
    "extensions": {
     "jupyter_dashboards": {
      "version": 1,
      "views": {
       "grid_default": {},
       "report_default": {}
      }
     }
    }
   },
   "outputs": [],
   "source": [
    "L_sys_kepler = (SB_A * RA**2 + SB_B * RB**2)\n",
    "\n",
    "# luminosity of system in ergs/s assuming flux from kepler is zero in optical"
   ]
  },
  {
   "cell_type": "code",
   "execution_count": 29,
   "metadata": {
    "extensions": {
     "jupyter_dashboards": {
      "version": 1,
      "views": {
       "grid_default": {},
       "report_default": {}
      }
     }
    }
   },
   "outputs": [],
   "source": [
    "# error propagation on L_sys\n",
    " # Calculate the partial derivatives with respect to RA and RB\n",
    "dL_dRA = 2 * RA * SB_A\n",
    "dL_dRB = 2 * RB * SB_B\n",
    "\n",
    "    # Calculate the uncertainty (error) in L_sys using error propagation formula\n",
    "sig_L_sys_kepler = ((dL_dRA * sig_RA) ** 2 + (dL_dRB * sig_RB) ** 2) ** 0.5"
   ]
  },
  {
   "cell_type": "code",
   "execution_count": 30,
   "metadata": {
    "extensions": {
     "jupyter_dashboards": {
      "version": 1,
      "views": {
       "grid_default": {},
       "report_default": {}
      }
     }
    },
    "scrolled": true
   },
   "outputs": [
    {
     "name": "stdout",
     "output_type": "stream",
     "text": [
      "9.542143659083655e+31 erg / s +/- 7.401145679396661e+30 erg / s\n"
     ]
    }
   ],
   "source": [
    "print(f\"{L_sys_kepler} +/- {sig_L_sys_kepler}\")"
   ]
  },
  {
   "cell_type": "markdown",
   "metadata": {
    "extensions": {
     "jupyter_dashboards": {
      "version": 1,
      "views": {
       "grid_default": {},
       "report_default": {}
      }
     }
    }
   },
   "source": [
    "# Calculate $L_{sys, lam}$\n",
    "\n",
    "Note this is not the true total luminosity of the system as seen by Spitzer, but the luminosity of the stars \n",
    "\n",
    "$L_{sys, ch1} = SB_{A, ch1} R_{A}^{2} + SB_{B, ch1} R_{B}^{2}$\n",
    "\n",
    "$L_{sys, ch2} = SB_{A, ch2} R_{A}^{2} + SB_{B, ch2} R_{B}^{2}$\n"
   ]
  },
  {
   "cell_type": "code",
   "execution_count": 31,
   "metadata": {
    "extensions": {
     "jupyter_dashboards": {
      "version": 1,
      "views": {
       "grid_default": {},
       "report_default": {}
      }
     }
    }
   },
   "outputs": [
    {
     "name": "stdout",
     "output_type": "stream",
     "text": [
      "7.58538955327845e+29 erg / s +/- 5.991925646089143e+28 erg / s\n"
     ]
    }
   ],
   "source": [
    "L_sys_ch1 = (SB_A_ch1 * RA**2 + SB_B_ch1 * RB**2)\n",
    "\n",
    "# luminosity of system in ergs/s assuming flux from kepler is zero in optical\n",
    "# error propagation on L_sys\n",
    " # Calculate the partial derivatives with respect to RA and RB\n",
    "dL_dRA = 2 * RA * SB_A_ch1\n",
    "dL_dRB = 2 * RB * SB_B_ch1\n",
    "\n",
    "    # Calculate the uncertainty (error) in L_sys using error propagation formula\n",
    "sig_L_sys_ch1 = ((dL_dRA * sig_RA) ** 2 + (dL_dRB * sig_RB) ** 2) ** 0.5\n",
    "\n",
    "print(f\"{L_sys_ch1} +/- {sig_L_sys_ch1}\")"
   ]
  },
  {
   "cell_type": "code",
   "execution_count": 32,
   "metadata": {
    "extensions": {
     "jupyter_dashboards": {
      "version": 1,
      "views": {
       "grid_default": {},
       "report_default": {}
      }
     }
    },
    "scrolled": true
   },
   "outputs": [
    {
     "name": "stdout",
     "output_type": "stream",
     "text": [
      "6.943241034982853e+29 erg / s +/- 5.225513086916075e+28 erg / s\n"
     ]
    }
   ],
   "source": [
    "L_sys_ch2 = (SB_A_ch2 * RA**2 + SB_B_ch2 * RB**2)\n",
    "\n",
    "# luminosity of system in ergs/s assuming flux from kepler is zero in optical\n",
    "# error propagation on L_sys\n",
    " # Calculate the partial derivatives with respect to RA and RB\n",
    "dL_dRA = 2 * RA * SB_A_ch2\n",
    "dL_dRB = 2 * RB * SB_B_ch2\n",
    "\n",
    "    # Calculate the uncertainty (error) in L_sys using error propagation formula\n",
    "sig_L_sys_ch2 = ((dL_dRA * sig_RA) ** 2 + (dL_dRB * sig_RB) ** 2) ** 0.5\n",
    "\n",
    "print(f\"{L_sys_ch2} +/- {sig_L_sys_ch2}\")"
   ]
  },
  {
   "cell_type": "markdown",
   "metadata": {
    "extensions": {
     "jupyter_dashboards": {
      "version": 1,
      "views": {
       "grid_default": {},
       "report_default": {}
      }
     }
    }
   },
   "source": [
    "# Fix nightside planet emission by using different Spitzer luminosities\n",
    "\n",
    "### $F_{N, \\lambda} = \\left(\\frac{\\delta_{Kepler}}{\\delta_{\\lambda}}\\right)\\left(\\frac{L_{sys, Kepler} SB_{A, \\lambda}}{SB_{A, Kepler}} - L_{sys, \\lambda}\\right)$"
   ]
  },
  {
   "cell_type": "code",
   "execution_count": 65,
   "metadata": {
    "extensions": {
     "jupyter_dashboards": {
      "version": 1,
      "views": {
       "grid_default": {},
       "report_default": {}
      }
     }
    }
   },
   "outputs": [],
   "source": [
    "# help \n",
    "Fp_ch1 = np.abs((SB_A_ch1 * Rp**2/depth_ch1[0]) - SB_A_ch1 * RA**2 - SB_B_ch1 * RB**2)/Rp**2"
   ]
  },
  {
   "cell_type": "code",
   "execution_count": 48,
   "metadata": {
    "extensions": {
     "jupyter_dashboards": {
      "version": 1,
      "views": {
       "grid_default": {},
       "report_default": {}
      }
     }
    }
   },
   "outputs": [
    {
     "name": "stdout",
     "output_type": "stream",
     "text": [
      "1.0951071170050475\n",
      "9.542143659083655e+31 erg / s\n",
      "121672861.878721 erg / (cm2 s)\n",
      "18880651475.642326 erg / (cm2 s)\n",
      "-1.5727181393423958e+29 erg / s\n"
     ]
    }
   ],
   "source": [
    "# ch 1\n",
    "del_ratio_ch1 = depth_kepler[0]/depth_ch1[0]\n",
    "print(del_ratio_ch1)\n",
    "term2_ch1 = (L_sys_kepler * SB_A_ch1 / SB_A) - L_sys_ch1\n",
    "print(L_sys_kepler)\n",
    "print(SB_A_ch1)\n",
    "print(SB_A)\n",
    "FN_ch1 = del_ratio_ch1 * term2_ch1\n",
    "print(FN_ch1)"
   ]
  },
  {
   "cell_type": "code",
   "execution_count": 36,
   "metadata": {
    "extensions": {
     "jupyter_dashboards": {
      "version": 1,
      "views": {
       "grid_default": {},
       "report_default": {}
      }
     }
    }
   },
   "outputs": [],
   "source": [
    "# ch 2\n",
    "del_ratio_ch2 = depth_kepler[0]/depth_ch2[0]\n",
    "term2_ch2 = L_sys_kepler * SB_A_ch2 / SB_A - L_sys_ch2\n",
    "\n",
    "FN_ch2 = del_ratio_ch2 * term2_ch2"
   ]
  },
  {
   "cell_type": "markdown",
   "metadata": {
    "extensions": {
     "jupyter_dashboards": {
      "version": 1,
      "views": {
       "grid_default": {},
       "report_default": {}
      }
     }
    }
   },
   "source": [
    "# Calculate nighside planet emission (LN)\n",
    "\n",
    "Brown dwarf nightside emission (ergs/s) is equal to the total system luminosity as seen by Kepler times a factor of the ratio of kepler transit depth to infrared (Spitzer) transit depth minus one. \n",
    "\n",
    "$L_{N, ch} = L_{sys}(\\delta_{kepler}/\\delta_{ch} - 1)$\n"
   ]
  },
  {
   "cell_type": "markdown",
   "metadata": {
    "extensions": {
     "jupyter_dashboards": {
      "version": 1,
      "views": {
       "grid_default": {},
       "report_default": {}
      }
     }
    }
   },
   "source": [
    "### CH 1 "
   ]
  },
  {
   "cell_type": "code",
   "execution_count": null,
   "metadata": {
    "extensions": {
     "jupyter_dashboards": {
      "version": 1,
      "views": {
       "grid_default": {},
       "report_default": {}
      }
     }
    }
   },
   "outputs": [],
   "source": [
    "# nightside emission as seen by spitzer ch1 in ergs/s\n",
    "LN_ch1 = L_sys * (depth_kepler[0]/depth_ch1[0] - 1)"
   ]
  },
  {
   "cell_type": "code",
   "execution_count": null,
   "metadata": {
    "extensions": {
     "jupyter_dashboards": {
      "version": 1,
      "views": {
       "grid_default": {},
       "report_default": {}
      }
     }
    }
   },
   "outputs": [],
   "source": [
    "print(depth_kepler[0]/depth_ch1[0] - 1)"
   ]
  },
  {
   "cell_type": "code",
   "execution_count": null,
   "metadata": {
    "extensions": {
     "jupyter_dashboards": {
      "version": 1,
      "views": {
       "grid_default": {},
       "report_default": {}
      }
     }
    }
   },
   "outputs": [],
   "source": [
    "# error on LN_ch1:\n",
    "    \n",
    "# assigns variables \n",
    "Rp, sig_Rp = Rp_kepler  #radius kepler in cm\n",
    "del_lam, sig_lam = depth_ch1 # depth other channel in ppm\n",
    "del_k, sig_k = depth_kepler # depth kepler in ppm\n",
    "\n",
    "# uncertainty on value:\n",
    "# find error on del_k/del_lam:\n",
    "sig_delk_dellam = (del_k/del_lam) * np.sqrt((sig_k/del_k)**2 + (sig_lam/del_lam)**2)\n",
    "\n",
    "# find error on total LN_ch1 calculation\n",
    "sig_LC_ch1 = LN_ch1 * np.sqrt((sig_delk_dellam/(del_k/del_lam))**2 + (sig_L_sys/L_sys)**2)"
   ]
  },
  {
   "cell_type": "code",
   "execution_count": null,
   "metadata": {
    "extensions": {
     "jupyter_dashboards": {
      "version": 1,
      "views": {
       "grid_default": {},
       "report_default": {}
      }
     }
    },
    "scrolled": true
   },
   "outputs": [],
   "source": [
    "print(f\"{LN_ch1} +/- {sig_LC_ch1}\")"
   ]
  },
  {
   "cell_type": "markdown",
   "metadata": {
    "extensions": {
     "jupyter_dashboards": {
      "version": 1,
      "views": {
       "grid_default": {},
       "report_default": {}
      }
     }
    }
   },
   "source": [
    "### CH 2"
   ]
  },
  {
   "cell_type": "code",
   "execution_count": null,
   "metadata": {
    "extensions": {
     "jupyter_dashboards": {
      "version": 1,
      "views": {
       "grid_default": {},
       "report_default": {}
      }
     }
    }
   },
   "outputs": [],
   "source": [
    "# nightside emission as seen by spitzer ch2 in ergs/s\n",
    "LN_ch2 = L_sys * (depth_kepler[0]/depth_ch2[0] - 1)"
   ]
  },
  {
   "cell_type": "code",
   "execution_count": null,
   "metadata": {
    "extensions": {
     "jupyter_dashboards": {
      "version": 1,
      "views": {
       "grid_default": {},
       "report_default": {}
      }
     }
    }
   },
   "outputs": [],
   "source": [
    "# error on LN_ch2: \n",
    "# error on LN_ch1:\n",
    "    \n",
    "# assigns variables \n",
    "del_lam, sig_lam = depth_ch2 # depth other channel in ppm\n",
    "\n",
    "# uncertainty on value:\n",
    "# find error on del_k/del_lam:\n",
    "sig_delk_dellam = (del_k/del_lam) * np.sqrt((sig_k/del_k)**2 + (sig_lam/del_lam)**2)\n",
    "\n",
    "# find error on total LN_ch1 calculation\n",
    "sig_LC_ch2 = LN_ch2 * np.sqrt((sig_delk_dellam/(del_k/del_lam))**2 + (sig_L_sys/L_sys)**2)"
   ]
  },
  {
   "cell_type": "code",
   "execution_count": null,
   "metadata": {
    "extensions": {
     "jupyter_dashboards": {
      "version": 1,
      "views": {
       "grid_default": {},
       "report_default": {}
      }
     }
    },
    "scrolled": true
   },
   "outputs": [],
   "source": [
    "# sanity check: luminosity in ch1 should be higher than in ch2 because the transit depth in ch1 is smaller than in ch2\n",
    "# meaning more emission is present in ch1 (3.6) than in ch2 (4.5)\n",
    "print(f\"{LN_ch2} +/- {sig_LC_ch2}\")"
   ]
  },
  {
   "cell_type": "markdown",
   "metadata": {
    "extensions": {
     "jupyter_dashboards": {
      "version": 1,
      "views": {
       "grid_default": {},
       "report_default": {}
      }
     }
    }
   },
   "source": [
    "# Calculate surface brightness (SB) in Spitzer channels from nightside emission \n",
    "The flux (ergs/cm^2/s) from the brown dwarf in a certain Spitzer channel is equal to the emission of the planet (ergs/s) divided by the radius sqaured of the planet in cm squared. \n",
    "\n",
    "derived from: \n",
    "$L_{N, ch} = SB_{P, ch} R_{P}^{2}$\n",
    "\n",
    "$SB_{ch} = L_{N, ch}/R_{P}^{2}$"
   ]
  },
  {
   "cell_type": "markdown",
   "metadata": {
    "extensions": {
     "jupyter_dashboards": {
      "version": 1,
      "views": {
       "grid_default": {},
       "report_default": {}
      }
     }
    }
   },
   "source": [
    "### CH 1"
   ]
  },
  {
   "cell_type": "code",
   "execution_count": 64,
   "metadata": {
    "extensions": {
     "jupyter_dashboards": {
      "version": 1,
      "views": {
       "grid_default": {},
       "report_default": {}
      }
     }
    }
   },
   "outputs": [
    {
     "name": "stdout",
     "output_type": "stream",
     "text": [
      "-292506037.7562504 erg / (cm2 s sr)\n"
     ]
    }
   ],
   "source": [
    "# Surface brightness of BD in ch 1 in ergs/cm^2/s/st\n",
    "\n",
    "SB_ch1 = FN_ch1 / (Rp**2 * 4 * np.pi * u.steradian)"
   ]
  },
  {
   "cell_type": "code",
   "execution_count": 39,
   "metadata": {
    "extensions": {
     "jupyter_dashboards": {
      "version": 1,
      "views": {
       "grid_default": {},
       "report_default": {}
      }
     }
    }
   },
   "outputs": [
    {
     "ename": "NameError",
     "evalue": "name 'sig_LC_ch1' is not defined",
     "output_type": "error",
     "traceback": [
      "\u001b[0;31m---------------------------------------------------------------------------\u001b[0m",
      "\u001b[0;31mNameError\u001b[0m                                 Traceback (most recent call last)",
      "\u001b[0;32m<ipython-input-39-1ba8a60d9123>\u001b[0m in \u001b[0;36m<module>\u001b[0;34m\u001b[0m\n\u001b[1;32m      2\u001b[0m \u001b[0msig_Rp2\u001b[0m \u001b[0;34m=\u001b[0m \u001b[0msig_Rp\u001b[0m \u001b[0;34m*\u001b[0m \u001b[0;36m2\u001b[0m \u001b[0;34m*\u001b[0m \u001b[0mRp\u001b[0m \u001b[0;31m# error on planet radius squared\u001b[0m\u001b[0;34m\u001b[0m\u001b[0;34m\u001b[0m\u001b[0m\n\u001b[1;32m      3\u001b[0m \u001b[0;34m\u001b[0m\u001b[0m\n\u001b[0;32m----> 4\u001b[0;31m \u001b[0msig_SB_ch1\u001b[0m \u001b[0;34m=\u001b[0m \u001b[0mSB_ch1\u001b[0m \u001b[0;34m*\u001b[0m \u001b[0mnp\u001b[0m\u001b[0;34m.\u001b[0m\u001b[0msqrt\u001b[0m\u001b[0;34m(\u001b[0m\u001b[0;34m(\u001b[0m\u001b[0msig_LC_ch1\u001b[0m\u001b[0;34m/\u001b[0m\u001b[0mLN_ch1\u001b[0m\u001b[0;34m)\u001b[0m\u001b[0;34m**\u001b[0m\u001b[0;36m2\u001b[0m \u001b[0;34m+\u001b[0m \u001b[0;34m(\u001b[0m\u001b[0msig_Rp2\u001b[0m\u001b[0;34m/\u001b[0m\u001b[0mRp\u001b[0m\u001b[0;34m**\u001b[0m\u001b[0;36m2\u001b[0m\u001b[0;34m)\u001b[0m\u001b[0;34m**\u001b[0m\u001b[0;36m2\u001b[0m\u001b[0;34m)\u001b[0m \u001b[0;31m# calculate error on flux from planet\u001b[0m\u001b[0;34m\u001b[0m\u001b[0;34m\u001b[0m\u001b[0m\n\u001b[0m",
      "\u001b[0;31mNameError\u001b[0m: name 'sig_LC_ch1' is not defined"
     ]
    }
   ],
   "source": [
    "# error propagation \n",
    "sig_Rp2 = sig_Rp * 2 * Rp # error on planet radius squared\n",
    "\n",
    "sig_SB_ch1 = SB_ch1 * np.sqrt((sig_LC_ch1/LN_ch1)**2 + (sig_Rp2/Rp**2)**2) # calculate error on flux from planet"
   ]
  },
  {
   "cell_type": "code",
   "execution_count": 40,
   "metadata": {
    "extensions": {
     "jupyter_dashboards": {
      "version": 1,
      "views": {
       "grid_default": {},
       "report_default": {}
      }
     }
    }
   },
   "outputs": [
    {
     "ename": "NameError",
     "evalue": "name 'sig_SB_ch1' is not defined",
     "output_type": "error",
     "traceback": [
      "\u001b[0;31m---------------------------------------------------------------------------\u001b[0m",
      "\u001b[0;31mNameError\u001b[0m                                 Traceback (most recent call last)",
      "\u001b[0;32m<ipython-input-40-5ee3801fc789>\u001b[0m in \u001b[0;36m<module>\u001b[0;34m\u001b[0m\n\u001b[0;32m----> 1\u001b[0;31m \u001b[0mprint\u001b[0m\u001b[0;34m(\u001b[0m\u001b[0;34mf\"{SB_ch1} +/- {sig_SB_ch1}\"\u001b[0m\u001b[0;34m)\u001b[0m\u001b[0;34m\u001b[0m\u001b[0;34m\u001b[0m\u001b[0m\n\u001b[0m",
      "\u001b[0;31mNameError\u001b[0m: name 'sig_SB_ch1' is not defined"
     ]
    }
   ],
   "source": [
    "print(f\"{SB_ch1} +/- {sig_SB_ch1}\")"
   ]
  },
  {
   "cell_type": "markdown",
   "metadata": {
    "extensions": {
     "jupyter_dashboards": {
      "version": 1,
      "views": {
       "grid_default": {},
       "report_default": {}
      }
     }
    }
   },
   "source": [
    "### CH 2"
   ]
  },
  {
   "cell_type": "code",
   "execution_count": null,
   "metadata": {
    "extensions": {
     "jupyter_dashboards": {
      "version": 1,
      "views": {
       "grid_default": {},
       "report_default": {}
      }
     }
    }
   },
   "outputs": [],
   "source": [
    "# Surface brightness of BD in ch 1 in ergs/cm^2/s\n",
    "\n",
    "SB_ch2 = LN_ch2 / (Rp**2 * 4 * np.pi * u.steradian)"
   ]
  },
  {
   "cell_type": "code",
   "execution_count": null,
   "metadata": {
    "extensions": {
     "jupyter_dashboards": {
      "version": 1,
      "views": {
       "grid_default": {},
       "report_default": {}
      }
     }
    }
   },
   "outputs": [],
   "source": [
    "# error propagation \n",
    "\n",
    "sig_SB_ch2 = SB_ch2 * np.sqrt((sig_LC_ch2/LN_ch2)**2 + (sig_Rp2/Rp**2)**2) # calculate error on flux from planet"
   ]
  },
  {
   "cell_type": "code",
   "execution_count": null,
   "metadata": {
    "extensions": {
     "jupyter_dashboards": {
      "version": 1,
      "views": {
       "grid_default": {},
       "report_default": {}
      }
     }
    },
    "scrolled": true
   },
   "outputs": [],
   "source": [
    "print(f\"{SB_ch2} +/- {sig_SB_ch2}\")"
   ]
  },
  {
   "cell_type": "markdown",
   "metadata": {
    "extensions": {
     "jupyter_dashboards": {
      "version": 1,
      "views": {
       "grid_default": {},
       "report_default": {}
      }
     }
    }
   },
   "source": [
    "# Finds brightness temperature of BD in Spitzer channels \n",
    "Find the temperature of a blackbody with the same emission per wavelength as the BD\n",
    "\n",
    "Integrate a Planck function $P(\\lambda, T)$ with a known temperature $T$ over the wavelength range of the Spitzer filter $\\lambda$, scaled by the transmission profile $t(\\lambda)$ of the certain Spitzer filter. \n",
    "\n",
    "$$ SB_{ch} = \\int P(\\lambda, T) t(\\lambda) \\, d\\lambda$$\n",
    "\n",
    "Recall $SB_{ch} = L_{N, ch}/R_{P}^{2}$ which was just calculated. \n",
    "\n",
    "We can set the calculated $SB_{ch}$ equal to an integral over the Spitzer filter range and find which temperature $T$ produces a $SB_{ch}$ closest to the $SB_{ch}$ predicted by the Spitzer channel transit depth. \n",
    "\n",
    "Units: integrate Planck function $ergs/cm^{2}/s/A/st$ over $A$ to get $SB_{ch}$ in $ergs/cm^{2}/s/st$, then multiply by $4\\pi$ to convert to $ergs/cm^{2}/s$"
   ]
  },
  {
   "cell_type": "code",
   "execution_count": null,
   "metadata": {
    "extensions": {
     "jupyter_dashboards": {
      "version": 1,
      "views": {
       "grid_default": {},
       "report_default": {}
      }
     }
    },
    "scrolled": true
   },
   "outputs": [],
   "source": [
    "# generates a blackbody function \n",
    "T = 1500 # temperature guess \n",
    "unit_scale = 1 * (u.erg / u.cm**2 / u.steradian / u.s / u.AA)\n",
    "bb = BlackBody(temperature=T*u.K, scale=unit_scale) # generates blackbody function with temp T in units of ergs/s/cm^2/AA/str"
   ]
  },
  {
   "cell_type": "markdown",
   "metadata": {
    "extensions": {
     "jupyter_dashboards": {
      "version": 1,
      "views": {
       "grid_default": {},
       "report_default": {}
      }
     }
    }
   },
   "source": [
    "### CH 1 "
   ]
  },
  {
   "cell_type": "code",
   "execution_count": null,
   "metadata": {
    "extensions": {
     "jupyter_dashboards": {
      "version": 1,
      "views": {
       "grid_default": {},
       "report_default": {}
      }
     }
    }
   },
   "outputs": [],
   "source": [
    "# scales blackbody function by Spitzer CH 1 transmission profile \n",
    "\n",
    "# grabs wavelength, transmission profile from Spitzer ch 1 filter \n",
    "lam_ch1 = spitz_ch1_raw[:, 0] * u.AA\n",
    "trans_ch1 = spitz_ch1_raw[:, 1]\n",
    "\n",
    "# evalulates blackbody function at same wavelengths as present in Spitzer transmission filter \n",
    "bb_ch1 = bb(lam_ch1)\n",
    "\n",
    "# scales blackbody function by Spitzer transmission profile\n",
    "integrand_ch1 = bb_ch1 * trans_ch1\n",
    "\n",
    "# integrates integrand (blackbody * transmission) over wavelength range of filter \n",
    "SB_ch1_planck_str = sum(\n",
    "    [(integrand_ch1[i] + integrand_ch1[i-1]) * (lam_ch1[i] - lam_ch1[i-1]) / 2 for i in range(1, len(lam_ch1))]\n",
    ")\n",
    "\n",
    "# scales integrand by 4pi to remove /steradian \n",
    "SB_ch1_planck = SB_ch1_planck_str * (4 * np.pi * u.steradian)"
   ]
  },
  {
   "cell_type": "code",
   "execution_count": null,
   "metadata": {
    "extensions": {
     "jupyter_dashboards": {
      "version": 1,
      "views": {
       "grid_default": {},
       "report_default": {}
      }
     }
    }
   },
   "outputs": [],
   "source": [
    "print(SB_ch1_planck)"
   ]
  },
  {
   "cell_type": "markdown",
   "metadata": {
    "extensions": {
     "jupyter_dashboards": {
      "version": 1,
      "views": {
       "grid_default": {},
       "report_default": {}
      }
     }
    }
   },
   "source": [
    "### CH 2 "
   ]
  },
  {
   "cell_type": "code",
   "execution_count": null,
   "metadata": {
    "extensions": {
     "jupyter_dashboards": {
      "version": 1,
      "views": {
       "grid_default": {},
       "report_default": {}
      }
     }
    }
   },
   "outputs": [],
   "source": [
    "# scales blackbody function by Spitzer CH 1 transmission profile \n",
    "\n",
    "# grabs wavelength, transmission profile from Spitzer ch 1 filter \n",
    "lam_ch2 = spitz_ch2_raw[:, 0] * u.AA\n",
    "trans_ch2 = spitz_ch2_raw[:, 1]\n",
    "\n",
    "# evalulates blackbody function at same wavelengths as present in Spitzer transmission filter \n",
    "bb_ch2 = bb(lam_ch2)\n",
    "\n",
    "# scales blackbody function by Spitzer transmission profile\n",
    "integrand_ch2 = bb_ch2 * trans_ch2\n",
    "\n",
    "# integrates integrand (blackbody * transmission) over wavelength range of filter \n",
    "SB_ch2_planck_str = sum(\n",
    "    [(integrand_ch2[i] + integrand_ch2[i-1]) * (lam_ch2[i] - lam_ch2[i-1]) / 2 for i in range(1, len(lam_ch2))]\n",
    ")\n",
    "\n",
    "# scales integrand by 4pi to remove /steradian \n",
    "SB_ch2_planck = SB_ch2_planck_str * (4 * np.pi * u.steradian)"
   ]
  },
  {
   "cell_type": "code",
   "execution_count": null,
   "metadata": {
    "extensions": {
     "jupyter_dashboards": {
      "version": 1,
      "views": {
       "grid_default": {},
       "report_default": {}
      }
     }
    }
   },
   "outputs": [],
   "source": [
    "print(SB_ch2_planck)"
   ]
  },
  {
   "cell_type": "markdown",
   "metadata": {
    "extensions": {
     "jupyter_dashboards": {
      "version": 1,
      "views": {
       "grid_default": {},
       "report_default": {}
      }
     }
    }
   },
   "source": [
    "# Runs minimization function to calculate bestfit temperature on BD "
   ]
  },
  {
   "cell_type": "code",
   "execution_count": 67,
   "metadata": {
    "extensions": {
     "jupyter_dashboards": {
      "version": 1,
      "views": {
       "grid_default": {},
       "report_default": {}
      }
     }
    }
   },
   "outputs": [],
   "source": [
    "# imports scipy minimization function \n",
    "from scipy.optimize import minimize_scalar\n",
    "from scipy import stats\n",
    "\n",
    "unit_scale = 1 * u.erg/(u.s * (u.cm)**2 * u.AA * u.steradian) # units for blackbody function "
   ]
  },
  {
   "cell_type": "code",
   "execution_count": 68,
   "metadata": {
    "extensions": {
     "jupyter_dashboards": {
      "version": 1,
      "views": {
       "grid_default": {},
       "report_default": {}
      }
     }
    }
   },
   "outputs": [],
   "source": [
    "# defines a log likelihood function for temperature\n",
    "def minimize_func(T, transmission_profile, SB_ch):\n",
    "    \n",
    "    lam_ch = transmission_profile[:, 0] * u.AA\n",
    "    trans_ch = transmission_profile[:, 1]\n",
    "    \n",
    "    # generates a blackbody function \n",
    "    bb = BlackBody(temperature=T*u.K, scale=unit_scale) # generates blackbody function with temp T in units of ergs/s/cm^2/AA/st\n",
    "    integrand_ch = bb(lam_ch) * trans_ch\n",
    "    SB_ch_planck = sum(\n",
    "        [(integrand_ch[i] + integrand_ch[i-1]) * (lam_ch[i] - lam_ch[i-1]) / 2 for i in range(1, len(lam_ch))]\n",
    "    ) #* (4 * np.pi * u.steradian) \n",
    "    return abs(SB_ch_planck - SB_ch)"
   ]
  },
  {
   "cell_type": "code",
   "execution_count": 76,
   "metadata": {
    "extensions": {
     "jupyter_dashboards": {
      "version": 1,
      "views": {
       "grid_default": {},
       "report_default": {}
      }
     }
    }
   },
   "outputs": [],
   "source": [
    "temp_ch1 = minimize_scalar(minimize_func, bounds=(100, 1000000), method = \"bounded\", args=(kep_transmission_raw, SB_ch1))"
   ]
  },
  {
   "cell_type": "code",
   "execution_count": 78,
   "metadata": {
    "extensions": {
     "jupyter_dashboards": {
      "version": 1,
      "views": {
       "grid_default": {},
       "report_default": {}
      }
     }
    }
   },
   "outputs": [
    {
     "ename": "NameError",
     "evalue": "name 'SB_ch2' is not defined",
     "output_type": "error",
     "traceback": [
      "\u001b[0;31m---------------------------------------------------------------------------\u001b[0m",
      "\u001b[0;31mNameError\u001b[0m                                 Traceback (most recent call last)",
      "\u001b[0;32m<ipython-input-78-51d3117803b3>\u001b[0m in \u001b[0;36m<module>\u001b[0;34m\u001b[0m\n\u001b[0;32m----> 1\u001b[0;31m \u001b[0mtemp_ch2\u001b[0m \u001b[0;34m=\u001b[0m \u001b[0mminimize_scalar\u001b[0m\u001b[0;34m(\u001b[0m\u001b[0mminimize_func\u001b[0m\u001b[0;34m,\u001b[0m \u001b[0mbounds\u001b[0m\u001b[0;34m=\u001b[0m\u001b[0;34m(\u001b[0m\u001b[0;36m100\u001b[0m\u001b[0;34m,\u001b[0m \u001b[0;36m10000000\u001b[0m\u001b[0;34m)\u001b[0m\u001b[0;34m,\u001b[0m \u001b[0mmethod\u001b[0m \u001b[0;34m=\u001b[0m \u001b[0;34m\"bounded\"\u001b[0m\u001b[0;34m,\u001b[0m \u001b[0margs\u001b[0m\u001b[0;34m=\u001b[0m\u001b[0;34m(\u001b[0m\u001b[0mkep_transmission_raw\u001b[0m\u001b[0;34m,\u001b[0m \u001b[0mSB_ch2\u001b[0m\u001b[0;34m)\u001b[0m\u001b[0;34m)\u001b[0m\u001b[0;34m\u001b[0m\u001b[0;34m\u001b[0m\u001b[0m\n\u001b[0m",
      "\u001b[0;31mNameError\u001b[0m: name 'SB_ch2' is not defined"
     ]
    }
   ],
   "source": [
    "temp_ch2 = minimize_scalar(minimize_func, bounds=(100, 10000000), method = \"bounded\", args=(kep_transmission_raw, SB_ch2))"
   ]
  },
  {
   "cell_type": "code",
   "execution_count": 77,
   "metadata": {
    "extensions": {
     "jupyter_dashboards": {
      "version": 1,
      "views": {
       "grid_default": {},
       "report_default": {}
      }
     }
    },
    "scrolled": true
   },
   "outputs": [
    {
     "name": "stdout",
     "output_type": "stream",
     "text": [
      "ch1 temp: 366.99561173440947 K\n"
     ]
    },
    {
     "ename": "NameError",
     "evalue": "name 'temp_ch2' is not defined",
     "output_type": "error",
     "traceback": [
      "\u001b[0;31m---------------------------------------------------------------------------\u001b[0m",
      "\u001b[0;31mNameError\u001b[0m                                 Traceback (most recent call last)",
      "\u001b[0;32m<ipython-input-77-dc1684d93f2a>\u001b[0m in \u001b[0;36m<module>\u001b[0;34m\u001b[0m\n\u001b[1;32m      1\u001b[0m \u001b[0mprint\u001b[0m\u001b[0;34m(\u001b[0m\u001b[0;34m\"ch1 temp:\"\u001b[0m\u001b[0;34m,\u001b[0m \u001b[0mtemp_ch1\u001b[0m\u001b[0;34m.\u001b[0m\u001b[0mx\u001b[0m \u001b[0;34m*\u001b[0m \u001b[0mu\u001b[0m\u001b[0;34m.\u001b[0m\u001b[0mK\u001b[0m\u001b[0;34m)\u001b[0m\u001b[0;34m\u001b[0m\u001b[0;34m\u001b[0m\u001b[0m\n\u001b[1;32m      2\u001b[0m \u001b[0;34m\u001b[0m\u001b[0m\n\u001b[0;32m----> 3\u001b[0;31m \u001b[0mprint\u001b[0m\u001b[0;34m(\u001b[0m\u001b[0;34m\"ch2 temp:\"\u001b[0m\u001b[0;34m,\u001b[0m \u001b[0mtemp_ch2\u001b[0m\u001b[0;34m.\u001b[0m\u001b[0mx\u001b[0m \u001b[0;34m*\u001b[0m \u001b[0mu\u001b[0m\u001b[0;34m.\u001b[0m\u001b[0mK\u001b[0m\u001b[0;34m)\u001b[0m\u001b[0;34m\u001b[0m\u001b[0;34m\u001b[0m\u001b[0m\n\u001b[0m",
      "\u001b[0;31mNameError\u001b[0m: name 'temp_ch2' is not defined"
     ]
    }
   ],
   "source": [
    "print(\"ch1 temp:\", temp_ch1.x * u.K)\n",
    "\n",
    "print(\"ch2 temp:\", temp_ch2.x * u.K)"
   ]
  },
  {
   "cell_type": "markdown",
   "metadata": {
    "extensions": {
     "jupyter_dashboards": {
      "version": 1,
      "views": {
       "grid_default": {},
       "report_default": {}
      }
     }
    }
   },
   "source": [
    "# rest is scrap work \n",
    "---------------------------"
   ]
  },
  {
   "cell_type": "markdown",
   "metadata": {
    "extensions": {
     "jupyter_dashboards": {
      "version": 1,
      "views": {
       "grid_default": {},
       "report_default": {}
      }
     }
    }
   },
   "source": [
    "## Functions"
   ]
  },
  {
   "cell_type": "code",
   "execution_count": null,
   "metadata": {
    "extensions": {
     "jupyter_dashboards": {
      "version": 1,
      "views": {
       "grid_default": {},
       "report_default": {}
      }
     }
    }
   },
   "outputs": [],
   "source": [
    "# FUNCTION FOR CALCULATING FLUX OVER A WAVELENGTH\n",
    "def trapz(lam, flux):\n",
    "    \"\"\"\n",
    "    :param lam: units of AA -> converts to cm\n",
    "    :param flux array: units of ergs/cm3/s\n",
    "    :return: surface brightness in ergs/cm2/s\n",
    "    \"\"\"\n",
    "\n",
    "    integral = sum(\n",
    "        [(flux[i] + flux[i-1]) * (lam[i] - lam[i-1]) / 2 for i in range(1, len(lam))]\n",
    "    )\n",
    "\n",
    "    return integral  # ergs/cm^2/s\n",
    "\n",
    "\n",
    "def find_lum_per_filter(trans_filter, spectrum):\n",
    "    \"\"\"\n",
    "    :param filter: array of filter transmission profile information in the form ((wavelength (A)), (transmission))\n",
    "    :param spectrum: Stellar spectrum model array in the form ((wavelength(A)), (flux (erg/cm2/s/A)))\n",
    "    :return: integrated flux per wavelength of filter in ergs/cm^2/s\n",
    "    \"\"\"\n",
    "    \n",
    "    # indices in star wavelength array where wavelength is equal to the smallest / largest wavelength in the star spectrum array\n",
    "    i_min = (np.abs(spectrum[:, 0] - np.min(trans_filter[:, 0]))).argmin()\n",
    "    i_max = (np.abs(spectrum[:, 0] - np.max(trans_filter[:, 0]))).argmin()\n",
    "\n",
    "    # shortens star spectrum arrays at desired indices\n",
    "    spec = spectrum[i_min:i_max]\n",
    "\n",
    "    # Creates interpolation function to transpose x axis from star data onto spitzer transmission spectrum\n",
    "    interp_func = interp1d(trans_filter[:, 0], trans_filter[:, 1])\n",
    "\n",
    "    # calculates new x axis, uses interpolation function to find new y axis\n",
    "    wavelength = spec[:, 0] * u.AA # wavelength from star array, adds correct units\n",
    "    flux = spec[:, 1] * (u.erg / u.cm**2 / u.s / u.AA) # grabs flux from array, adds correct units\n",
    "    transmission = interp_func(wavelength) # calculates new kepler transmission array values of same length of transmission x values\n",
    "    scaled_flux = transmission * flux\n",
    "    \n",
    "    \n",
    "    wavelength = wavelength.to(u.cm)\n",
    "    scaled_flux = scaled_flux.to(u.erg / u.cm**3 /u.s)\n",
    "\n",
    "    S_star = trapz(wavelength, scaled_flux) # surface brightness of object\n",
    "    return S_star"
   ]
  },
  {
   "cell_type": "markdown",
   "metadata": {
    "extensions": {
     "jupyter_dashboards": {
      "version": 1,
      "views": {
       "grid_default": {},
       "report_default": {}
      }
     }
    }
   },
   "source": [
    "## Calculations\n",
    "### System flux"
   ]
  },
  {
   "cell_type": "code",
   "execution_count": null,
   "metadata": {
    "extensions": {
     "jupyter_dashboards": {
      "version": 1,
      "views": {
       "grid_default": {},
       "report_default": {}
      }
     }
    }
   },
   "outputs": [],
   "source": [
    "# SA, SB in units of ergs/cm^2 /s # surface brightness \n",
    "SA = find_lum_per_filter(kep_transmission_raw, spec_A_raw)\n",
    "SB = find_lum_per_filter(kep_transmission_raw, spec_B_raw)"
   ]
  },
  {
   "cell_type": "code",
   "execution_count": null,
   "metadata": {
    "extensions": {
     "jupyter_dashboards": {
      "version": 1,
      "views": {
       "grid_default": {},
       "report_default": {}
      }
     }
    }
   },
   "outputs": [],
   "source": [
    "print(SA)\n",
    "print(SB)"
   ]
  },
  {
   "cell_type": "code",
   "execution_count": null,
   "metadata": {
    "extensions": {
     "jupyter_dashboards": {
      "version": 1,
      "views": {
       "grid_default": {},
       "report_default": {}
      }
     }
    }
   },
   "outputs": [],
   "source": [
    " # Calculate the system luminance (L_sys)\n",
    "L_sys = RA**2 * SA + RB**2 * SB # + RP**2 * SP\n",
    "\n",
    "    # Calculate the partial derivatives with respect to RA and RB\n",
    "dL_dRA = 2 * RA * SA\n",
    "dL_dRB = 2 * RB * SB\n",
    "\n",
    "    # Calculate the uncertainty (error) in L_sys using error propagation formula\n",
    "sig_L_sys = ((dL_dRA * sig_RA) ** 2 + (dL_dRB * sig_RB) ** 2) ** 0.5"
   ]
  },
  {
   "cell_type": "code",
   "execution_count": null,
   "metadata": {
    "extensions": {
     "jupyter_dashboards": {
      "version": 1,
      "views": {
       "grid_default": {},
       "report_default": {}
      }
     }
    }
   },
   "outputs": [],
   "source": [
    "print(L_sys) # vs Lsun = e33 "
   ]
  },
  {
   "cell_type": "markdown",
   "metadata": {
    "extensions": {
     "jupyter_dashboards": {
      "version": 1,
      "views": {
       "grid_default": {},
       "report_default": {}
      }
     }
    }
   },
   "source": [
    "## Convert depths to surface flux of planets"
   ]
  },
  {
   "cell_type": "code",
   "execution_count": null,
   "metadata": {
    "extensions": {
     "jupyter_dashboards": {
      "version": 1,
      "views": {
       "grid_default": {},
       "report_default": {}
      }
     }
    }
   },
   "outputs": [],
   "source": [
    "def find_Sp(Rp_kepler, depth_lam, depth_k):\n",
    "    \n",
    "    # assigns variables \n",
    "    Rp, sig_Rp = Rp_kepler  #radius kepler in cm\n",
    "    del_lam, sig_lam = depth_lam # depth other channel in ppm\n",
    "    del_k, sig_k = depth_k # depth kepler in ppm\n",
    "\n",
    "    # plugging values into formula\n",
    "    Fn = L_sys * (del_k/del_lam - 1) # solve for nighttime flux\n",
    "\n",
    "    # uncertainty on value:\n",
    "    # first, find error on del_k/del_lam:\n",
    "    sig_delk_dellam = (del_k/del_lam) * np.sqrt((sig_k/del_k)**2 + (sig_lam/del_lam)**2)\n",
    "    sig_Fn = (L_sys * (del_k/del_lam - 1)) * np.sqrt((sig_delk_dellam/(del_k/del_lam))**2 + (sig_L_sys/L_sys)**2)\n",
    "\n",
    "    # Fn = Rp**2 * Fp(lam)\n",
    "    # Fp(lam) = Fn / (Rp**2)\n",
    "    Sp = Fn / (Rp**2) # calculate planet luminosity\n",
    "\n",
    "    sig_Rp2 = sig_Rp * 2 * Rp # error on planet radius squared\n",
    "\n",
    "    sig_Sp = Sp * np.sqrt((sig_Fn/Fn)**2 + (sig_Rp2/Rp**2)**2) # calculate error on flux from planet\n",
    "\n",
    "    return Sp, sig_Sp"
   ]
  },
  {
   "cell_type": "code",
   "execution_count": null,
   "metadata": {
    "extensions": {
     "jupyter_dashboards": {
      "version": 1,
      "views": {
       "grid_default": {},
       "report_default": {}
      }
     }
    }
   },
   "outputs": [],
   "source": [
    "Sp_ch1, _ = find_Sp(Rp_kepler, depth_ch1, depth_kepler)\n",
    "Sp_ch2, _ = find_Sp(Rp_kepler, depth_ch2, depth_kepler)"
   ]
  },
  {
   "cell_type": "code",
   "execution_count": null,
   "metadata": {
    "extensions": {
     "jupyter_dashboards": {
      "version": 1,
      "views": {
       "grid_default": {},
       "report_default": {}
      }
     }
    }
   },
   "outputs": [],
   "source": [
    "Sp_ch1"
   ]
  },
  {
   "cell_type": "code",
   "execution_count": null,
   "metadata": {
    "extensions": {
     "jupyter_dashboards": {
      "version": 1,
      "views": {
       "grid_default": {},
       "report_default": {}
      }
     }
    },
    "scrolled": true
   },
   "outputs": [],
   "source": [
    "Sp_ch2"
   ]
  },
  {
   "cell_type": "markdown",
   "metadata": {
    "extensions": {
     "jupyter_dashboards": {
      "version": 1,
      "views": {
       "grid_default": {},
       "report_default": {}
      }
     }
    }
   },
   "source": [
    "# plots planck function, point for Sp to see how overlaps? hmmm"
   ]
  },
  {
   "cell_type": "code",
   "execution_count": null,
   "metadata": {
    "extensions": {
     "jupyter_dashboards": {
      "version": 1,
      "views": {
       "grid_default": {},
       "report_default": {}
      }
     }
    }
   },
   "outputs": [],
   "source": [
    "def Planck(lam, T):\n",
    "    # takes lam in angstroms - does it???\n",
    "    h = 6.62617e-27 * u.erg * u.s\n",
    "    c = 2.99792458e10 * u.cm/u.s\n",
    "    k_b = 1.3807e-16 * u.cm**2 * u.g / u.s**2 / u.K\n",
    "\n",
    "    t1 = (2 * h * c**2) /(lam**5) \n",
    "    te = (math.e)**((h*c)/(k_b*T*lam))\n",
    "    eq = t1 * (1/(te - 1)) # full planck function \n",
    "\n",
    "    return eq * np.pi # scales by pi??"
   ]
  },
  {
   "cell_type": "code",
   "execution_count": null,
   "metadata": {
    "extensions": {
     "jupyter_dashboards": {
      "version": 1,
      "views": {
       "grid_default": {},
       "report_default": {}
      }
     }
    }
   },
   "outputs": [],
   "source": [
    "lam = kep_transmission_raw[:, 0] * u.AA\n",
    "T = 1500* u.K\n",
    "bb = Planck(lam, T)"
   ]
  },
  {
   "cell_type": "code",
   "execution_count": null,
   "metadata": {
    "extensions": {
     "jupyter_dashboards": {
      "version": 1,
      "views": {
       "grid_default": {},
       "report_default": {}
      }
     }
    }
   },
   "outputs": [],
   "source": [
    "plt.plot(lam.value, bb.value)\n",
    "#plt.loglog();\n",
    "\n",
    "# this makes me think I am integrating wrong? that my flux should be so much larger than it actially is \n"
   ]
  },
  {
   "cell_type": "markdown",
   "metadata": {
    "extensions": {
     "jupyter_dashboards": {
      "version": 1,
      "views": {
       "grid_default": {},
       "report_default": {}
      }
     }
    }
   },
   "source": [
    "## convert surface brightness to brightness temperature using minimization function (maybe also write that)"
   ]
  },
  {
   "cell_type": "code",
   "execution_count": null,
   "metadata": {
    "extensions": {
     "jupyter_dashboards": {
      "version": 1,
      "views": {
       "grid_default": {},
       "report_default": {}
      }
     }
    }
   },
   "outputs": [],
   "source": [
    "def find_bb_temp(Sp, transmission_filter):\n",
    "    temp_guess_min = int(input(\"temp_min:\"))\n",
    "    temp_guess_max = int(input(\"temp_max:\"))\n",
    "    temp_step = int(input(\"temp_step:\"))\n",
    "    temp_guesses = np.arange(temp_guess_min, temp_guess_max, 10)\n",
    "\n",
    "    values = [] # initialzies list for flux per temperature calculations\n",
    "    lam = transmission_filter[:, 0] * u.AA # converts wavelength array from filter transmission to angstroms\n",
    "    transmission = transmission_filter[:, 1] # assigns transmission array\n",
    "\n",
    "    for T in temp_guesses: # iterates over all temperature guesses\n",
    "        lam = lam.to(u.cm) # converts angstroms to cm \n",
    "        flux = Planck(lam, T*u.K) # calculates array of planck function values over wavelength range of filter\n",
    "        integrand = flux * transmission # scales blackbody flux by transmission of filter\n",
    "        #integrand = integrand.to(u.erg / u.cm**3 /u.s)\n",
    "        \n",
    "        term = trapz(lam, integrand) # integrates scaled flux over wavelength range\n",
    "        values.append(term) # adds values wit stripped units to array\n",
    "        \n",
    "        print(Sp)  \n",
    "        print(term)\n",
    "    temp_index = np.abs(values - Sp.value).argmin()\n",
    "    temp = temp_guesses[temp_index]\n",
    "\n",
    "    print(\"Bestfit Temperature:\", temp * u.K)\n",
    "    return temp*u.K"
   ]
  },
  {
   "cell_type": "code",
   "execution_count": null,
   "metadata": {
    "extensions": {
     "jupyter_dashboards": {
      "version": 1,
      "views": {
       "grid_default": {},
       "report_default": {}
      }
     }
    }
   },
   "outputs": [],
   "source": [
    "temp_ch1 = find_bb_temp(SA, spitz_ch1_raw)"
   ]
  },
  {
   "cell_type": "code",
   "execution_count": null,
   "metadata": {
    "extensions": {
     "jupyter_dashboards": {
      "version": 1,
      "views": {
       "grid_default": {},
       "report_default": {}
      }
     }
    }
   },
   "outputs": [],
   "source": [
    "temp_ch2 = find_bb_temp(Sp_ch2, spitz_ch2_raw)"
   ]
  },
  {
   "cell_type": "code",
   "execution_count": null,
   "metadata": {
    "extensions": {
     "jupyter_dashboards": {
      "version": 1,
      "views": {
       "grid_default": {},
       "report_default": {}
      }
     }
    }
   },
   "outputs": [],
   "source": []
  }
 ],
 "metadata": {
  "extensions": {
   "jupyter_dashboards": {
    "activeView": "grid_default",
    "version": 1,
    "views": {
     "grid_default": {
      "cellMargin": 10,
      "defaultCellHeight": 20,
      "maxColumns": 12,
      "name": "grid",
      "type": "grid"
     },
     "report_default": {
      "name": "report",
      "type": "report"
     }
    }
   }
  },
  "kernelspec": {
   "display_name": "Python 3",
   "language": "python",
   "name": "python3"
  },
  "language_info": {
   "codemirror_mode": {
    "name": "ipython",
    "version": 3
   },
   "file_extension": ".py",
   "mimetype": "text/x-python",
   "name": "python",
   "nbconvert_exporter": "python",
   "pygments_lexer": "ipython3",
   "version": "3.6.15"
  }
 },
 "nbformat": 4,
 "nbformat_minor": 2
}
